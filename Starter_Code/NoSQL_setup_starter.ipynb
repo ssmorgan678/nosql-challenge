{
 "cells": [
  {
   "cell_type": "markdown",
   "id": "263e1834",
   "metadata": {},
   "source": [
    "# Eat Safe, Love"
   ]
  },
  {
   "cell_type": "markdown",
   "id": "fbd1964e",
   "metadata": {},
   "source": [
    "## Part 1: Database and Jupyter Notebook Set Up"
   ]
  },
  {
   "cell_type": "markdown",
   "id": "c27ce8c4",
   "metadata": {},
   "source": [
    "Import the data provided in the `establishments.json` file from your Terminal. Name the database `uk_food` and the collection `establishments`.\n",
    "\n",
    "Within this markdown cell, copy the line of text you used to import the data from your Terminal. This way, future analysts will be able to repeat your process.\n",
    "\n",
    "e.g.: Import the dataset with `YOUR IMPORT TEXT HERE`"
   ]
  },
  {
   "cell_type": "code",
   "execution_count": null,
   "id": "db0a5a38",
   "metadata": {},
   "outputs": [],
   "source": [
    "# Import dependencies\n"
   ]
  },
  {
   "cell_type": "code",
   "execution_count": null,
   "id": "de6e4eea",
   "metadata": {},
   "outputs": [],
   "source": [
    "# Create an instance of MongoClient\n"
   ]
  },
  {
   "cell_type": "code",
   "execution_count": null,
   "id": "15b7fd4e",
   "metadata": {},
   "outputs": [],
   "source": [
    "# confirm that our new database was created\n"
   ]
  },
  {
   "cell_type": "code",
   "execution_count": null,
   "id": "64b8b38c",
   "metadata": {},
   "outputs": [],
   "source": [
    "# assign the uk_food database to a variable name\n"
   ]
  },
  {
   "cell_type": "code",
   "execution_count": null,
   "id": "da774060",
   "metadata": {},
   "outputs": [],
   "source": [
    "# review the collections in our new database\n"
   ]
  },
  {
   "cell_type": "code",
   "execution_count": null,
   "id": "56f26cb7",
   "metadata": {},
   "outputs": [],
   "source": [
    "# review the collections in our new database\n"
   ]
  },
  {
   "cell_type": "code",
   "execution_count": null,
   "id": "44b1a00f",
   "metadata": {},
   "outputs": [],
   "source": [
    "# review a document in the establishments collection\n"
   ]
  },
  {
   "cell_type": "code",
   "execution_count": null,
   "id": "4fc51bc7",
   "metadata": {},
   "outputs": [],
   "source": [
    "# assign the collection to a variable\n"
   ]
  },
  {
   "cell_type": "markdown",
   "id": "058c8a9d",
   "metadata": {},
   "source": [
    "## Part 2: Update the Database"
   ]
  },
  {
   "cell_type": "markdown",
   "id": "f9a7c932",
   "metadata": {},
   "source": [
    "1. An exciting new halal restaurant just opened in Greenwich, but hasn't been rated yet. The magazine has asked you to include it in your analysis. Add the following restaurant \"Penang Flavours\" to the database."
   ]
  },
  {
   "cell_type": "code",
   "execution_count": null,
   "id": "e071c6fa",
   "metadata": {},
   "outputs": [],
   "source": [
    "# Create a dictionary for the new restaurant data\n"
   ]
  },
  {
   "cell_type": "code",
   "execution_count": null,
   "id": "6dcdaaa6",
   "metadata": {},
   "outputs": [],
   "source": [
    "# Insert the new restaurant into the collection\n"
   ]
  },
  {
   "cell_type": "code",
   "execution_count": null,
   "id": "3cdd931f",
   "metadata": {},
   "outputs": [],
   "source": [
    "# Check that the new restaurant was inserted\n"
   ]
  },
  {
   "cell_type": "markdown",
   "id": "567f9578",
   "metadata": {},
   "source": [
    "2. Find the BusinessTypeID for \"Restaurant/Cafe/Canteen\" and return only the `BusinessTypeID` and `BusinessType` fields."
   ]
  },
  {
   "cell_type": "code",
   "execution_count": null,
   "id": "e9f3352d",
   "metadata": {},
   "outputs": [],
   "source": [
    "# Find the BusinessTypeID for \"Restaurant/Cafe/Canteen\" and return only the BusinessTypeID and BusinessType fields\n"
   ]
  },
  {
   "cell_type": "markdown",
   "id": "ede0fe3b",
   "metadata": {},
   "source": [
    "3. Update the new restaurant with the `BusinessTypeID` you found."
   ]
  },
  {
   "cell_type": "code",
   "execution_count": null,
   "id": "5038930c",
   "metadata": {},
   "outputs": [],
   "source": [
    "# Update the new restaurant with the correct BusinessTypeID\n"
   ]
  },
  {
   "cell_type": "code",
   "execution_count": null,
   "id": "2fcc78dc",
   "metadata": {},
   "outputs": [],
   "source": [
    "# Confirm that the new restaurant was updated\n"
   ]
  },
  {
   "cell_type": "markdown",
   "id": "65944ab1",
   "metadata": {},
   "source": [
    "4. The magazine is not interested in any establishments in Dover, so check how many documents contain the Dover Local Authority. Then, remove any establishments within the Dover Local Authority from the database, and check the number of documents to ensure they were deleted."
   ]
  },
  {
   "cell_type": "code",
   "execution_count": null,
   "id": "4a4a0266",
   "metadata": {},
   "outputs": [],
   "source": [
    "# Find how many documents have LocalAuthorityName as \"Dover\"\n"
   ]
  },
  {
   "cell_type": "code",
   "execution_count": null,
   "id": "41a852b9",
   "metadata": {},
   "outputs": [],
   "source": [
    "# Delete all documents where LocalAuthorityName is \"Dover\"\n"
   ]
  },
  {
   "cell_type": "code",
   "execution_count": null,
   "id": "578d46a0",
   "metadata": {},
   "outputs": [],
   "source": [
    "# Check if any remaining documents include Dover\n"
   ]
  },
  {
   "cell_type": "code",
   "execution_count": null,
   "id": "5ded4ca7",
   "metadata": {},
   "outputs": [],
   "source": [
    "# Check that other documents remain with 'find_one'\n"
   ]
  },
  {
   "cell_type": "markdown",
   "id": "47ded2fc",
   "metadata": {},
   "source": [
    "5. Some of the number values are stored as strings, when they should be stored as numbers. Use `update_many` to convert `latitude` and `longitude` to decimal numbers."
   ]
  },
  {
   "cell_type": "code",
   "execution_count": null,
   "id": "4162bdea",
   "metadata": {},
   "outputs": [],
   "source": [
    "# Change the data type from String to Decimal for longitude\n"
   ]
  },
  {
   "cell_type": "code",
   "execution_count": null,
   "id": "102913f6",
   "metadata": {},
   "outputs": [],
   "source": [
    "# Change the data type from String to Decimal for latitude\n"
   ]
  },
  {
   "cell_type": "code",
   "execution_count": null,
   "id": "b4f4fb39",
   "metadata": {},
   "outputs": [],
   "source": [
    "# Check that the coordinates are now numbers\n"
   ]
  }
 ],
 "metadata": {
  "kernelspec": {
   "display_name": "PythonData",
   "language": "python",
   "name": "pythondata"
  },
  "language_info": {
   "codemirror_mode": {
    "name": "ipython",
    "version": 3
   },
   "file_extension": ".py",
   "mimetype": "text/x-python",
   "name": "python",
   "nbconvert_exporter": "python",
   "pygments_lexer": "ipython3",
   "version": "3.9.13"
  }
 },
 "nbformat": 4,
 "nbformat_minor": 5
}
